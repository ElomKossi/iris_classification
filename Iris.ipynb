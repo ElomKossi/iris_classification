{
 "cells": [
  {
   "cell_type": "code",
   "execution_count": 1,
   "metadata": {},
   "outputs": [],
   "source": [
    "# Load modules\n",
    "from pandas import read_csv\n",
    "from sklearn.model_selection import train_test_split\n",
    "from sklearn.svm import SVC\n",
    "import pandas as pd"
   ]
  },
  {
   "cell_type": "code",
   "execution_count": 6,
   "metadata": {},
   "outputs": [
    {
     "data": {
      "text/plain": [
       "SVC(C=1.0, cache_size=200, class_weight=None, coef0=0.0,\n",
       "    decision_function_shape='ovr', degree=3, gamma='auto', kernel='rbf',\n",
       "    max_iter=-1, probability=False, random_state=None, shrinking=True,\n",
       "    tol=0.001, verbose=False)"
      ]
     },
     "execution_count": 6,
     "metadata": {},
     "output_type": "execute_result"
    }
   ],
   "source": [
    "# Load dataset\n",
    "df = pd.read_csv(r\"/Users/joke/PycharmProjects/iris_classification/iris.csv\"  )\n",
    "\n",
    "# Split into training data and test data\n",
    "X = df[['sepal_length','sepal_width','petal_length','petal_width']]\n",
    "y = df['classification']\n",
    "\n",
    "# Create training and testing vars, It’s usually around 80/20 or 70/30.\n",
    "X_train, X_test, Y_train, Y_test = train_test_split(X, y, test_size=0.20, random_state=1)\n",
    "\n",
    "# Now we’ll fit the model on the training data\n",
    "model = SVC(gamma='auto')\n",
    "model.fit(X_train, Y_train)\n",
    "\n",
    "# Make predictions on validation dataset\n",
    "#predictions = model.predict(X_test)"
   ]
  },
  {
   "cell_type": "code",
   "execution_count": 7,
   "metadata": {},
   "outputs": [],
   "source": [
    "# Pickle model \n",
    "pd.to_pickle(model,r'/Users/joke/PycharmProjects/iris_classification/iris_model.pickle')\n",
    "\n",
    "# Unpickle model \n",
    "model = pd.read_pickle(r'/Users/joke/PycharmProjects/iris_classification/iris_model.pickle') \n",
    "# read a pickle pd.read_pickle('model.pkl')"
   ]
  },
  {
   "cell_type": "code",
   "execution_count": 8,
   "metadata": {},
   "outputs": [
    {
     "name": "stdout",
     "output_type": "stream",
     "text": [
      "Enter sepal_length: 2\n",
      "Enter sepa_width: 3\n",
      "Enter petal_length: 2\n",
      "Enter petal_width: 1\n",
      "['Iris-virginica']\n"
     ]
    }
   ],
   "source": [
    "# Take input from user\n",
    "sepal_length = float(input(\"Enter sepal_length: \"))\n",
    "sepal_width = float(input(\"Enter sepa_width: \"))\n",
    "petal_length = float(input(\"Enter petal_length: \"))\n",
    "petal_width = float(input(\"Enter petal_width: \"))\n",
    "\n",
    "result = model.predict([[sepal_length,sepal_width,petal_length,petal_width]])  # input must be 2D array\n",
    "print(result)"
   ]
  },
  {
   "cell_type": "code",
   "execution_count": null,
   "metadata": {},
   "outputs": [],
   "source": []
  }
 ],
 "metadata": {
  "kernelspec": {
   "display_name": "Python 3",
   "language": "python",
   "name": "python3"
  },
  "language_info": {
   "codemirror_mode": {
    "name": "ipython",
    "version": 3
   },
   "file_extension": ".py",
   "mimetype": "text/x-python",
   "name": "python",
   "nbconvert_exporter": "python",
   "pygments_lexer": "ipython3",
   "version": "3.7.4"
  }
 },
 "nbformat": 4,
 "nbformat_minor": 2
}
